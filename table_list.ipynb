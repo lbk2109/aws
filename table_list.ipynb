{
 "cells": [
  {
   "cell_type": "code",
   "execution_count": 1,
   "metadata": {},
   "outputs": [
    {
     "name": "stdout",
     "output_type": "stream",
     "text": [
      "DB:JOB_DB30_GG\n",
      "테이블:Pass_User_Wish_Work1\n",
      "테이블:Pass_User_Wish_Work2\n"
     ]
    }
   ],
   "source": [
    "table_list = {\n",
    "    \"database\": \"JOB_DB30_GG\",\n",
    "    \"table_list\": [\n",
    "        {\"table_name\": \"Pass_User_Wish_Work1\"}\n",
    "       ,{\"table_name\": \"Pass_User_Wish_Work2\"}\n",
    "    ]\n",
    "}\n",
    "database_name = table_list[\"database\"]\n",
    "print('DB:'+table_list['database'])\n",
    "for table_info in table_list[\"table_list\"]:\n",
    "    print('테이블:'+table_info['table_name'])"
   ]
  },
  {
   "cell_type": "code",
   "execution_count": null,
   "metadata": {},
   "outputs": [],
   "source": []
  }
 ],
 "metadata": {
  "kernelspec": {
   "display_name": "Python 3",
   "language": "python",
   "name": "python3"
  },
  "language_info": {
   "codemirror_mode": {
    "name": "ipython",
    "version": 3
   },
   "file_extension": ".py",
   "mimetype": "text/x-python",
   "name": "python",
   "nbconvert_exporter": "python",
   "pygments_lexer": "ipython3",
   "version": "3.7.3"
  }
 },
 "nbformat": 4,
 "nbformat_minor": 2
}
